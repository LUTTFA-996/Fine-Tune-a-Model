{
 "cells": [
  {
   "cell_type": "markdown",
   "id": "e7f49bd7-9582-4ce6-8061-852edd24652e",
   "metadata": {},
   "source": [
    "**LIBRARY**"
   ]
  },
  {
   "cell_type": "code",
   "execution_count": 1,
   "id": "127a267d-31ee-4210-a64a-d773c2778b75",
   "metadata": {},
   "outputs": [
    {
     "name": "stdout",
     "output_type": "stream",
     "text": [
      "Looking in indexes: https://pypi.org/simple, https://pypi.ngc.nvidia.com"
     ]
    },
    {
     "name": "stderr",
     "output_type": "stream",
     "text": [
      "  DEPRECATION: Building 'fire' using the legacy setup.py bdist_wheel mechanism, which will be removed in a future version. pip 25.3 will enforce this behaviour change. A possible replacement is to use the standardized build interface by setting the `--use-pep517` option, (possibly combined with `--no-build-isolation`), or adding a `pyproject.toml` file to the source tree of 'fire'. Discussion can be found at https://github.com/pypa/pip/issues/6334\n"
     ]
    },
    {
     "name": "stdout",
     "output_type": "stream",
     "text": [
      "\n",
      "Collecting deepface\n",
      "  Downloading deepface-0.0.93-py3-none-any.whl.metadata (30 kB)\n",
      "Requirement already satisfied: requests>=2.27.1 in c:\\users\\lutifah\\.conda\\envs\\age_detection\\lib\\site-packages (from deepface) (2.32.3)\n",
      "Requirement already satisfied: numpy>=1.14.0 in c:\\users\\lutifah\\.conda\\envs\\age_detection\\lib\\site-packages (from deepface) (2.0.2)\n",
      "Requirement already satisfied: pandas>=0.23.4 in c:\\users\\lutifah\\.conda\\envs\\age_detection\\lib\\site-packages (from deepface) (2.2.3)\n",
      "Collecting gdown>=3.10.1 (from deepface)\n",
      "  Downloading gdown-5.2.0-py3-none-any.whl.metadata (5.8 kB)\n",
      "Collecting tqdm>=4.30.0 (from deepface)\n",
      "  Downloading tqdm-4.67.1-py3-none-any.whl.metadata (57 kB)\n",
      "Requirement already satisfied: Pillow>=5.2.0 in c:\\users\\lutifah\\.conda\\envs\\age_detection\\lib\\site-packages (from deepface) (11.2.1)\n",
      "Requirement already satisfied: opencv-python>=4.5.5.64 in c:\\users\\lutifah\\.conda\\envs\\age_detection\\lib\\site-packages (from deepface) (4.11.0.86)\n",
      "Requirement already satisfied: tensorflow>=1.9.0 in c:\\users\\lutifah\\.conda\\envs\\age_detection\\lib\\site-packages (from deepface) (2.19.0)\n",
      "Requirement already satisfied: keras>=2.2.0 in c:\\users\\lutifah\\.conda\\envs\\age_detection\\lib\\site-packages (from deepface) (3.10.0)\n",
      "Collecting Flask>=1.1.2 (from deepface)\n",
      "  Downloading flask-3.1.1-py3-none-any.whl.metadata (3.0 kB)\n",
      "Collecting flask-cors>=4.0.1 (from deepface)\n",
      "  Downloading flask_cors-6.0.0-py3-none-any.whl.metadata (961 bytes)\n",
      "Collecting mtcnn>=0.1.0 (from deepface)\n",
      "  Downloading mtcnn-0.1.1-py3-none-any.whl.metadata (5.8 kB)\n",
      "Collecting retina-face>=0.0.1 (from deepface)\n",
      "  Downloading retina_face-0.0.17-py3-none-any.whl.metadata (10 kB)\n",
      "Collecting fire>=0.4.0 (from deepface)\n",
      "  Downloading fire-0.7.0.tar.gz (87 kB)\n",
      "  Preparing metadata (setup.py): started\n",
      "  Preparing metadata (setup.py): finished with status 'done'\n",
      "Collecting gunicorn>=20.1.0 (from deepface)\n",
      "  Downloading gunicorn-23.0.0-py3-none-any.whl.metadata (4.4 kB)\n",
      "Requirement already satisfied: termcolor in c:\\users\\lutifah\\.conda\\envs\\age_detection\\lib\\site-packages (from fire>=0.4.0->deepface) (3.1.0)\n",
      "Collecting blinker>=1.9.0 (from Flask>=1.1.2->deepface)\n",
      "  Downloading blinker-1.9.0-py3-none-any.whl.metadata (1.6 kB)\n",
      "Collecting click>=8.1.3 (from Flask>=1.1.2->deepface)\n",
      "  Downloading click-8.1.8-py3-none-any.whl.metadata (2.3 kB)\n",
      "Requirement already satisfied: importlib-metadata>=3.6.0 in c:\\users\\lutifah\\.conda\\envs\\age_detection\\lib\\site-packages (from Flask>=1.1.2->deepface) (8.5.0)\n",
      "Collecting itsdangerous>=2.2.0 (from Flask>=1.1.2->deepface)\n",
      "  Downloading itsdangerous-2.2.0-py3-none-any.whl.metadata (1.9 kB)\n",
      "Requirement already satisfied: jinja2>=3.1.2 in c:\\users\\lutifah\\.conda\\envs\\age_detection\\lib\\site-packages (from Flask>=1.1.2->deepface) (3.1.6)\n",
      "Requirement already satisfied: markupsafe>=2.1.1 in c:\\users\\lutifah\\.conda\\envs\\age_detection\\lib\\site-packages (from Flask>=1.1.2->deepface) (3.0.2)\n",
      "Requirement already satisfied: werkzeug>=3.1.0 in c:\\users\\lutifah\\.conda\\envs\\age_detection\\lib\\site-packages (from Flask>=1.1.2->deepface) (3.1.3)\n",
      "Requirement already satisfied: colorama in c:\\users\\lutifah\\.conda\\envs\\age_detection\\lib\\site-packages (from click>=8.1.3->Flask>=1.1.2->deepface) (0.4.6)\n",
      "Requirement already satisfied: beautifulsoup4 in c:\\users\\lutifah\\.conda\\envs\\age_detection\\lib\\site-packages (from gdown>=3.10.1->deepface) (4.12.3)\n",
      "Collecting filelock (from gdown>=3.10.1->deepface)\n",
      "  Downloading filelock-3.18.0-py3-none-any.whl.metadata (2.9 kB)\n",
      "Requirement already satisfied: packaging in c:\\users\\lutifah\\.conda\\envs\\age_detection\\lib\\site-packages (from gunicorn>=20.1.0->deepface) (24.2)\n",
      "Requirement already satisfied: zipp>=3.20 in c:\\users\\lutifah\\.conda\\envs\\age_detection\\lib\\site-packages (from importlib-metadata>=3.6.0->Flask>=1.1.2->deepface) (3.21.0)\n",
      "Requirement already satisfied: absl-py in c:\\users\\lutifah\\.conda\\envs\\age_detection\\lib\\site-packages (from keras>=2.2.0->deepface) (2.3.0)\n",
      "Requirement already satisfied: rich in c:\\users\\lutifah\\.conda\\envs\\age_detection\\lib\\site-packages (from keras>=2.2.0->deepface) (14.0.0)\n",
      "Requirement already satisfied: namex in c:\\users\\lutifah\\.conda\\envs\\age_detection\\lib\\site-packages (from keras>=2.2.0->deepface) (0.1.0)\n",
      "Requirement already satisfied: h5py in c:\\users\\lutifah\\.conda\\envs\\age_detection\\lib\\site-packages (from keras>=2.2.0->deepface) (3.13.0)\n",
      "Requirement already satisfied: optree in c:\\users\\lutifah\\.conda\\envs\\age_detection\\lib\\site-packages (from keras>=2.2.0->deepface) (0.16.0)\n",
      "Requirement already satisfied: ml-dtypes in c:\\users\\lutifah\\.conda\\envs\\age_detection\\lib\\site-packages (from keras>=2.2.0->deepface) (0.5.1)\n",
      "Requirement already satisfied: python-dateutil>=2.8.2 in c:\\users\\lutifah\\.conda\\envs\\age_detection\\lib\\site-packages (from pandas>=0.23.4->deepface) (2.9.0.post0)\n",
      "Requirement already satisfied: pytz>=2020.1 in c:\\users\\lutifah\\.conda\\envs\\age_detection\\lib\\site-packages (from pandas>=0.23.4->deepface) (2025.2)\n",
      "Requirement already satisfied: tzdata>=2022.7 in c:\\users\\lutifah\\.conda\\envs\\age_detection\\lib\\site-packages (from pandas>=0.23.4->deepface) (2025.2)\n",
      "Requirement already satisfied: six>=1.5 in c:\\users\\lutifah\\.conda\\envs\\age_detection\\lib\\site-packages (from python-dateutil>=2.8.2->pandas>=0.23.4->deepface) (1.17.0)\n",
      "Requirement already satisfied: charset-normalizer<4,>=2 in c:\\users\\lutifah\\.conda\\envs\\age_detection\\lib\\site-packages (from requests>=2.27.1->deepface) (3.3.2)\n",
      "Requirement already satisfied: idna<4,>=2.5 in c:\\users\\lutifah\\.conda\\envs\\age_detection\\lib\\site-packages (from requests>=2.27.1->deepface) (3.7)\n",
      "Requirement already satisfied: urllib3<3,>=1.21.1 in c:\\users\\lutifah\\.conda\\envs\\age_detection\\lib\\site-packages (from requests>=2.27.1->deepface) (2.3.0)\n",
      "Requirement already satisfied: certifi>=2017.4.17 in c:\\users\\lutifah\\.conda\\envs\\age_detection\\lib\\site-packages (from requests>=2.27.1->deepface) (2025.4.26)\n",
      "Requirement already satisfied: astunparse>=1.6.0 in c:\\users\\lutifah\\.conda\\envs\\age_detection\\lib\\site-packages (from tensorflow>=1.9.0->deepface) (1.6.3)\n",
      "Requirement already satisfied: flatbuffers>=24.3.25 in c:\\users\\lutifah\\.conda\\envs\\age_detection\\lib\\site-packages (from tensorflow>=1.9.0->deepface) (25.2.10)\n",
      "Requirement already satisfied: gast!=0.5.0,!=0.5.1,!=0.5.2,>=0.2.1 in c:\\users\\lutifah\\.conda\\envs\\age_detection\\lib\\site-packages (from tensorflow>=1.9.0->deepface) (0.6.0)\n",
      "Requirement already satisfied: google-pasta>=0.1.1 in c:\\users\\lutifah\\.conda\\envs\\age_detection\\lib\\site-packages (from tensorflow>=1.9.0->deepface) (0.2.0)\n",
      "Requirement already satisfied: libclang>=13.0.0 in c:\\users\\lutifah\\.conda\\envs\\age_detection\\lib\\site-packages (from tensorflow>=1.9.0->deepface) (18.1.1)\n",
      "Requirement already satisfied: opt-einsum>=2.3.2 in c:\\users\\lutifah\\.conda\\envs\\age_detection\\lib\\site-packages (from tensorflow>=1.9.0->deepface) (3.4.0)\n",
      "Requirement already satisfied: protobuf!=4.21.0,!=4.21.1,!=4.21.2,!=4.21.3,!=4.21.4,!=4.21.5,<6.0.0dev,>=3.20.3 in c:\\users\\lutifah\\.conda\\envs\\age_detection\\lib\\site-packages (from tensorflow>=1.9.0->deepface) (5.29.5)\n",
      "Requirement already satisfied: setuptools in c:\\users\\lutifah\\.conda\\envs\\age_detection\\lib\\site-packages (from tensorflow>=1.9.0->deepface) (78.1.1)\n",
      "Requirement already satisfied: typing-extensions>=3.6.6 in c:\\users\\lutifah\\.conda\\envs\\age_detection\\lib\\site-packages (from tensorflow>=1.9.0->deepface) (4.12.2)\n",
      "Requirement already satisfied: wrapt>=1.11.0 in c:\\users\\lutifah\\.conda\\envs\\age_detection\\lib\\site-packages (from tensorflow>=1.9.0->deepface) (1.17.2)\n",
      "Requirement already satisfied: grpcio<2.0,>=1.24.3 in c:\\users\\lutifah\\.conda\\envs\\age_detection\\lib\\site-packages (from tensorflow>=1.9.0->deepface) (1.71.0)\n",
      "Requirement already satisfied: tensorboard~=2.19.0 in c:\\users\\lutifah\\.conda\\envs\\age_detection\\lib\\site-packages (from tensorflow>=1.9.0->deepface) (2.19.0)\n",
      "Requirement already satisfied: tensorflow-io-gcs-filesystem>=0.23.1 in c:\\users\\lutifah\\.conda\\envs\\age_detection\\lib\\site-packages (from tensorflow>=1.9.0->deepface) (0.31.0)\n",
      "Requirement already satisfied: markdown>=2.6.8 in c:\\users\\lutifah\\.conda\\envs\\age_detection\\lib\\site-packages (from tensorboard~=2.19.0->tensorflow>=1.9.0->deepface) (3.8)\n",
      "Requirement already satisfied: tensorboard-data-server<0.8.0,>=0.7.0 in c:\\users\\lutifah\\.conda\\envs\\age_detection\\lib\\site-packages (from tensorboard~=2.19.0->tensorflow>=1.9.0->deepface) (0.7.2)\n",
      "Requirement already satisfied: wheel<1.0,>=0.23.0 in c:\\users\\lutifah\\.conda\\envs\\age_detection\\lib\\site-packages (from astunparse>=1.6.0->tensorflow>=1.9.0->deepface) (0.45.1)\n",
      "Requirement already satisfied: soupsieve>1.2 in c:\\users\\lutifah\\.conda\\envs\\age_detection\\lib\\site-packages (from beautifulsoup4->gdown>=3.10.1->deepface) (2.5)\n",
      "Requirement already satisfied: PySocks!=1.5.7,>=1.5.6 in c:\\users\\lutifah\\.conda\\envs\\age_detection\\lib\\site-packages (from requests[socks]->gdown>=3.10.1->deepface) (1.7.1)\n",
      "Requirement already satisfied: markdown-it-py>=2.2.0 in c:\\users\\lutifah\\.conda\\envs\\age_detection\\lib\\site-packages (from rich->keras>=2.2.0->deepface) (3.0.0)\n",
      "Requirement already satisfied: pygments<3.0.0,>=2.13.0 in c:\\users\\lutifah\\.conda\\envs\\age_detection\\lib\\site-packages (from rich->keras>=2.2.0->deepface) (2.19.1)\n",
      "Requirement already satisfied: mdurl~=0.1 in c:\\users\\lutifah\\.conda\\envs\\age_detection\\lib\\site-packages (from markdown-it-py>=2.2.0->rich->keras>=2.2.0->deepface) (0.1.2)\n",
      "Downloading deepface-0.0.93-py3-none-any.whl (108 kB)\n",
      "Downloading flask-3.1.1-py3-none-any.whl (103 kB)\n",
      "Downloading blinker-1.9.0-py3-none-any.whl (8.5 kB)\n",
      "Downloading click-8.1.8-py3-none-any.whl (98 kB)\n",
      "Downloading flask_cors-6.0.0-py3-none-any.whl (11 kB)\n",
      "Downloading gdown-5.2.0-py3-none-any.whl (18 kB)\n",
      "Downloading gunicorn-23.0.0-py3-none-any.whl (85 kB)\n",
      "Downloading itsdangerous-2.2.0-py3-none-any.whl (16 kB)\n",
      "Downloading mtcnn-0.1.1-py3-none-any.whl (2.3 MB)\n",
      "   ---------------------------------------- 0.0/2.3 MB ? eta -:--:--\n",
      "   --------------------------- ------------ 1.6/2.3 MB 6.4 MB/s eta 0:00:01\n",
      "   ---------------------------------------- 2.3/2.3 MB 6.1 MB/s eta 0:00:00\n",
      "Downloading retina_face-0.0.17-py3-none-any.whl (25 kB)\n",
      "Downloading tqdm-4.67.1-py3-none-any.whl (78 kB)\n",
      "Downloading filelock-3.18.0-py3-none-any.whl (16 kB)\n",
      "Building wheels for collected packages: fire\n",
      "  Building wheel for fire (setup.py): started\n",
      "  Building wheel for fire (setup.py): finished with status 'done'\n",
      "  Created wheel for fire: filename=fire-0.7.0-py3-none-any.whl size=114349 sha256=de2c62882f4a2e496f0e46c4bdb1266441dfadf82cc010d7694ad731b2b09062\n",
      "  Stored in directory: C:\\Users\\Lutifah\\AppData\\Local\\Temp\\pip-ephem-wheel-cache-f78dj7j5\\wheels\\3b\\ee\\ac\\319a7b7f331f61050d0d54425079b2a883b445be3c7284a4eb\n",
      "Successfully built fire\n",
      "Installing collected packages: tqdm, itsdangerous, gunicorn, fire, filelock, click, blinker, Flask, gdown, flask-cors, mtcnn, retina-face, deepface\n",
      "\n",
      "   ----------------------------------------  0/13 [tqdm]\n",
      "   ----------------------------------------  0/13 [tqdm]\n",
      "   ----------------------------------------  0/13 [tqdm]\n",
      "   ----------------------------------------  0/13 [tqdm]\n",
      "   ----------------------------------------  0/13 [tqdm]\n",
      "   ----------------------------------------  0/13 [tqdm]\n",
      "   ----------------------------------------  0/13 [tqdm]\n",
      "   ----------------------------------------  0/13 [tqdm]\n",
      "   ----------------------------------------  0/13 [tqdm]\n",
      "   ----------------------------------------  0/13 [tqdm]\n",
      "   --- ------------------------------------  1/13 [itsdangerous]\n",
      "   ------ ---------------------------------  2/13 [gunicorn]\n",
      "   ------ ---------------------------------  2/13 [gunicorn]\n",
      "   ------ ---------------------------------  2/13 [gunicorn]\n",
      "   --------- ------------------------------  3/13 [fire]\n",
      "   --------- ------------------------------  3/13 [fire]\n",
      "   --------- ------------------------------  3/13 [fire]\n",
      "   --------- ------------------------------  3/13 [fire]\n",
      "   ------------ ---------------------------  4/13 [filelock]\n",
      "   ------------ ---------------------------  4/13 [filelock]\n",
      "   --------------- ------------------------  5/13 [click]\n",
      "   --------------- ------------------------  5/13 [click]\n",
      "   --------------------- ------------------  7/13 [Flask]\n",
      "   --------------------- ------------------  7/13 [Flask]\n",
      "   --------------------- ------------------  7/13 [Flask]\n",
      "   ------------------------ ---------------  8/13 [gdown]\n",
      "   --------------------------- ------------  9/13 [flask-cors]\n",
      "   ------------------------------ --------- 10/13 [mtcnn]\n",
      "   --------------------------------- ------ 11/13 [retina-face]\n",
      "   ------------------------------------ --- 12/13 [deepface]\n",
      "   ------------------------------------ --- 12/13 [deepface]\n",
      "   ------------------------------------ --- 12/13 [deepface]\n",
      "   ------------------------------------ --- 12/13 [deepface]\n",
      "   ------------------------------------ --- 12/13 [deepface]\n",
      "   ------------------------------------ --- 12/13 [deepface]\n",
      "   ---------------------------------------- 13/13 [deepface]\n",
      "\n",
      "Successfully installed Flask-3.1.1 blinker-1.9.0 click-8.1.8 deepface-0.0.93 filelock-3.18.0 fire-0.7.0 flask-cors-6.0.0 gdown-5.2.0 gunicorn-23.0.0 itsdangerous-2.2.0 mtcnn-0.1.1 retina-face-0.0.17 tqdm-4.67.1\n"
     ]
    }
   ],
   "source": [
    "!pip install deepface\n"
   ]
  },
  {
   "cell_type": "markdown",
   "id": "37ad5efa-c5a7-421f-9cc5-c7b5e9822379",
   "metadata": {},
   "source": [
    "**Load and Preprocess the UTKFace Dataset**"
   ]
  },
  {
   "cell_type": "code",
   "execution_count": 2,
   "id": "b489b324-7857-44fe-9f57-3f85d9787797",
   "metadata": {},
   "outputs": [],
   "source": [
    "import os\n",
    "import cv2\n",
    "import numpy as np\n",
    "\n",
    "data_dir = r\"C:\\Users\\Lutifah\\Desktop\\INTERSHIP\\Fine-Tune  Model\\UTKFace\"\n",
    "image_paths = [os.path.join(data_dir, f) for f in os.listdir(data_dir) if f.endswith('.jpg')]\n",
    "\n",
    "images, ages = [], []\n",
    "\n",
    "for path in image_paths:\n",
    "    try:\n",
    "        age = int(os.path.basename(path).split('_')[0])\n",
    "        img = cv2.imread(path)\n",
    "        img = cv2.resize(img, (64, 64))  # much smaller\n",
    "        images.append(img)\n",
    "        ages.append(age)\n",
    "    except:\n",
    "        continue\n",
    "\n",
    "X = np.array(images, dtype=np.float32) / 255.0\n",
    "y = np.array(ages, dtype=np.float32)\n",
    "\n",
    "np.save(\"X_64.npy\", X)\n",
    "np.save(\"y_64.npy\", y)\n"
   ]
  },
  {
   "cell_type": "code",
   "execution_count": 4,
   "id": "bd2fa5b1-1115-4a3b-9a17-cd2bb7886f80",
   "metadata": {},
   "outputs": [],
   "source": [
    "import numpy as np\n",
    "\n",
    "X = np.load(\"X_64.npy\")  # shape: (N, 64, 64, 3)\n",
    "y = np.load(\"y_64.npy\")  # shape: (N,)\n"
   ]
  },
  {
   "cell_type": "code",
   "execution_count": 5,
   "id": "49777e38-f65e-461a-81fc-6270ec9e961e",
   "metadata": {},
   "outputs": [
    {
     "name": "stdout",
     "output_type": "stream",
     "text": [
      "Train: (16595, 64, 64, 3), Val: (3556, 64, 64, 3), Test: (3557, 64, 64, 3)\n"
     ]
    }
   ],
   "source": [
    "from sklearn.model_selection import train_test_split\n",
    "\n",
    "# Split into train, val, and test\n",
    "X_train, X_temp, y_train, y_temp = train_test_split(X, y, test_size=0.3, random_state=42)\n",
    "X_val, X_test, y_val, y_test = train_test_split(X_temp, y_temp, test_size=0.5, random_state=42)\n",
    "\n",
    "print(f\"Train: {X_train.shape}, Val: {X_val.shape}, Test: {X_test.shape}\")\n"
   ]
  },
  {
   "cell_type": "markdown",
   "id": "7c966935-674e-4afa-b1de-daaafea4b640",
   "metadata": {},
   "source": [
    "**Load a Pre-trained CNN**"
   ]
  },
  {
   "cell_type": "code",
   "execution_count": 6,
   "id": "7a6832f1-3ff5-47c7-9015-add1d77c9b8d",
   "metadata": {},
   "outputs": [
    {
     "name": "stderr",
     "output_type": "stream",
     "text": [
      "C:\\Users\\Lutifah\\.conda\\envs\\Age_detection\\lib\\site-packages\\keras\\src\\layers\\convolutional\\base_conv.py:113: UserWarning: Do not pass an `input_shape`/`input_dim` argument to a layer. When using Sequential models, prefer using an `Input(shape)` object as the first layer in the model instead.\n",
      "  super().__init__(activity_regularizer=activity_regularizer, **kwargs)\n"
     ]
    },
    {
     "data": {
      "text/html": [
       "<pre style=\"white-space:pre;overflow-x:auto;line-height:normal;font-family:Menlo,'DejaVu Sans Mono',consolas,'Courier New',monospace\"><span style=\"font-weight: bold\">Model: \"sequential\"</span>\n",
       "</pre>\n"
      ],
      "text/plain": [
       "\u001b[1mModel: \"sequential\"\u001b[0m\n"
      ]
     },
     "metadata": {},
     "output_type": "display_data"
    },
    {
     "data": {
      "text/html": [
       "<pre style=\"white-space:pre;overflow-x:auto;line-height:normal;font-family:Menlo,'DejaVu Sans Mono',consolas,'Courier New',monospace\">┏━━━━━━━━━━━━━━━━━━━━━━━━━━━━━━━━━━━━━━┳━━━━━━━━━━━━━━━━━━━━━━━━━━━━━┳━━━━━━━━━━━━━━━━━┓\n",
       "┃<span style=\"font-weight: bold\"> Layer (type)                         </span>┃<span style=\"font-weight: bold\"> Output Shape                </span>┃<span style=\"font-weight: bold\">         Param # </span>┃\n",
       "┡━━━━━━━━━━━━━━━━━━━━━━━━━━━━━━━━━━━━━━╇━━━━━━━━━━━━━━━━━━━━━━━━━━━━━╇━━━━━━━━━━━━━━━━━┩\n",
       "│ conv2d (<span style=\"color: #0087ff; text-decoration-color: #0087ff\">Conv2D</span>)                      │ (<span style=\"color: #00d7ff; text-decoration-color: #00d7ff\">None</span>, <span style=\"color: #00af00; text-decoration-color: #00af00\">62</span>, <span style=\"color: #00af00; text-decoration-color: #00af00\">62</span>, <span style=\"color: #00af00; text-decoration-color: #00af00\">32</span>)          │             <span style=\"color: #00af00; text-decoration-color: #00af00\">896</span> │\n",
       "├──────────────────────────────────────┼─────────────────────────────┼─────────────────┤\n",
       "│ max_pooling2d (<span style=\"color: #0087ff; text-decoration-color: #0087ff\">MaxPooling2D</span>)         │ (<span style=\"color: #00d7ff; text-decoration-color: #00d7ff\">None</span>, <span style=\"color: #00af00; text-decoration-color: #00af00\">31</span>, <span style=\"color: #00af00; text-decoration-color: #00af00\">31</span>, <span style=\"color: #00af00; text-decoration-color: #00af00\">32</span>)          │               <span style=\"color: #00af00; text-decoration-color: #00af00\">0</span> │\n",
       "├──────────────────────────────────────┼─────────────────────────────┼─────────────────┤\n",
       "│ conv2d_1 (<span style=\"color: #0087ff; text-decoration-color: #0087ff\">Conv2D</span>)                    │ (<span style=\"color: #00d7ff; text-decoration-color: #00d7ff\">None</span>, <span style=\"color: #00af00; text-decoration-color: #00af00\">29</span>, <span style=\"color: #00af00; text-decoration-color: #00af00\">29</span>, <span style=\"color: #00af00; text-decoration-color: #00af00\">64</span>)          │          <span style=\"color: #00af00; text-decoration-color: #00af00\">18,496</span> │\n",
       "├──────────────────────────────────────┼─────────────────────────────┼─────────────────┤\n",
       "│ max_pooling2d_1 (<span style=\"color: #0087ff; text-decoration-color: #0087ff\">MaxPooling2D</span>)       │ (<span style=\"color: #00d7ff; text-decoration-color: #00d7ff\">None</span>, <span style=\"color: #00af00; text-decoration-color: #00af00\">14</span>, <span style=\"color: #00af00; text-decoration-color: #00af00\">14</span>, <span style=\"color: #00af00; text-decoration-color: #00af00\">64</span>)          │               <span style=\"color: #00af00; text-decoration-color: #00af00\">0</span> │\n",
       "├──────────────────────────────────────┼─────────────────────────────┼─────────────────┤\n",
       "│ conv2d_2 (<span style=\"color: #0087ff; text-decoration-color: #0087ff\">Conv2D</span>)                    │ (<span style=\"color: #00d7ff; text-decoration-color: #00d7ff\">None</span>, <span style=\"color: #00af00; text-decoration-color: #00af00\">12</span>, <span style=\"color: #00af00; text-decoration-color: #00af00\">12</span>, <span style=\"color: #00af00; text-decoration-color: #00af00\">128</span>)         │          <span style=\"color: #00af00; text-decoration-color: #00af00\">73,856</span> │\n",
       "├──────────────────────────────────────┼─────────────────────────────┼─────────────────┤\n",
       "│ max_pooling2d_2 (<span style=\"color: #0087ff; text-decoration-color: #0087ff\">MaxPooling2D</span>)       │ (<span style=\"color: #00d7ff; text-decoration-color: #00d7ff\">None</span>, <span style=\"color: #00af00; text-decoration-color: #00af00\">6</span>, <span style=\"color: #00af00; text-decoration-color: #00af00\">6</span>, <span style=\"color: #00af00; text-decoration-color: #00af00\">128</span>)           │               <span style=\"color: #00af00; text-decoration-color: #00af00\">0</span> │\n",
       "├──────────────────────────────────────┼─────────────────────────────┼─────────────────┤\n",
       "│ flatten (<span style=\"color: #0087ff; text-decoration-color: #0087ff\">Flatten</span>)                    │ (<span style=\"color: #00d7ff; text-decoration-color: #00d7ff\">None</span>, <span style=\"color: #00af00; text-decoration-color: #00af00\">4608</span>)                │               <span style=\"color: #00af00; text-decoration-color: #00af00\">0</span> │\n",
       "├──────────────────────────────────────┼─────────────────────────────┼─────────────────┤\n",
       "│ dense (<span style=\"color: #0087ff; text-decoration-color: #0087ff\">Dense</span>)                        │ (<span style=\"color: #00d7ff; text-decoration-color: #00d7ff\">None</span>, <span style=\"color: #00af00; text-decoration-color: #00af00\">64</span>)                  │         <span style=\"color: #00af00; text-decoration-color: #00af00\">294,976</span> │\n",
       "├──────────────────────────────────────┼─────────────────────────────┼─────────────────┤\n",
       "│ dropout (<span style=\"color: #0087ff; text-decoration-color: #0087ff\">Dropout</span>)                    │ (<span style=\"color: #00d7ff; text-decoration-color: #00d7ff\">None</span>, <span style=\"color: #00af00; text-decoration-color: #00af00\">64</span>)                  │               <span style=\"color: #00af00; text-decoration-color: #00af00\">0</span> │\n",
       "├──────────────────────────────────────┼─────────────────────────────┼─────────────────┤\n",
       "│ dense_1 (<span style=\"color: #0087ff; text-decoration-color: #0087ff\">Dense</span>)                      │ (<span style=\"color: #00d7ff; text-decoration-color: #00d7ff\">None</span>, <span style=\"color: #00af00; text-decoration-color: #00af00\">1</span>)                   │              <span style=\"color: #00af00; text-decoration-color: #00af00\">65</span> │\n",
       "└──────────────────────────────────────┴─────────────────────────────┴─────────────────┘\n",
       "</pre>\n"
      ],
      "text/plain": [
       "┏━━━━━━━━━━━━━━━━━━━━━━━━━━━━━━━━━━━━━━┳━━━━━━━━━━━━━━━━━━━━━━━━━━━━━┳━━━━━━━━━━━━━━━━━┓\n",
       "┃\u001b[1m \u001b[0m\u001b[1mLayer (type)                        \u001b[0m\u001b[1m \u001b[0m┃\u001b[1m \u001b[0m\u001b[1mOutput Shape               \u001b[0m\u001b[1m \u001b[0m┃\u001b[1m \u001b[0m\u001b[1m        Param #\u001b[0m\u001b[1m \u001b[0m┃\n",
       "┡━━━━━━━━━━━━━━━━━━━━━━━━━━━━━━━━━━━━━━╇━━━━━━━━━━━━━━━━━━━━━━━━━━━━━╇━━━━━━━━━━━━━━━━━┩\n",
       "│ conv2d (\u001b[38;5;33mConv2D\u001b[0m)                      │ (\u001b[38;5;45mNone\u001b[0m, \u001b[38;5;34m62\u001b[0m, \u001b[38;5;34m62\u001b[0m, \u001b[38;5;34m32\u001b[0m)          │             \u001b[38;5;34m896\u001b[0m │\n",
       "├──────────────────────────────────────┼─────────────────────────────┼─────────────────┤\n",
       "│ max_pooling2d (\u001b[38;5;33mMaxPooling2D\u001b[0m)         │ (\u001b[38;5;45mNone\u001b[0m, \u001b[38;5;34m31\u001b[0m, \u001b[38;5;34m31\u001b[0m, \u001b[38;5;34m32\u001b[0m)          │               \u001b[38;5;34m0\u001b[0m │\n",
       "├──────────────────────────────────────┼─────────────────────────────┼─────────────────┤\n",
       "│ conv2d_1 (\u001b[38;5;33mConv2D\u001b[0m)                    │ (\u001b[38;5;45mNone\u001b[0m, \u001b[38;5;34m29\u001b[0m, \u001b[38;5;34m29\u001b[0m, \u001b[38;5;34m64\u001b[0m)          │          \u001b[38;5;34m18,496\u001b[0m │\n",
       "├──────────────────────────────────────┼─────────────────────────────┼─────────────────┤\n",
       "│ max_pooling2d_1 (\u001b[38;5;33mMaxPooling2D\u001b[0m)       │ (\u001b[38;5;45mNone\u001b[0m, \u001b[38;5;34m14\u001b[0m, \u001b[38;5;34m14\u001b[0m, \u001b[38;5;34m64\u001b[0m)          │               \u001b[38;5;34m0\u001b[0m │\n",
       "├──────────────────────────────────────┼─────────────────────────────┼─────────────────┤\n",
       "│ conv2d_2 (\u001b[38;5;33mConv2D\u001b[0m)                    │ (\u001b[38;5;45mNone\u001b[0m, \u001b[38;5;34m12\u001b[0m, \u001b[38;5;34m12\u001b[0m, \u001b[38;5;34m128\u001b[0m)         │          \u001b[38;5;34m73,856\u001b[0m │\n",
       "├──────────────────────────────────────┼─────────────────────────────┼─────────────────┤\n",
       "│ max_pooling2d_2 (\u001b[38;5;33mMaxPooling2D\u001b[0m)       │ (\u001b[38;5;45mNone\u001b[0m, \u001b[38;5;34m6\u001b[0m, \u001b[38;5;34m6\u001b[0m, \u001b[38;5;34m128\u001b[0m)           │               \u001b[38;5;34m0\u001b[0m │\n",
       "├──────────────────────────────────────┼─────────────────────────────┼─────────────────┤\n",
       "│ flatten (\u001b[38;5;33mFlatten\u001b[0m)                    │ (\u001b[38;5;45mNone\u001b[0m, \u001b[38;5;34m4608\u001b[0m)                │               \u001b[38;5;34m0\u001b[0m │\n",
       "├──────────────────────────────────────┼─────────────────────────────┼─────────────────┤\n",
       "│ dense (\u001b[38;5;33mDense\u001b[0m)                        │ (\u001b[38;5;45mNone\u001b[0m, \u001b[38;5;34m64\u001b[0m)                  │         \u001b[38;5;34m294,976\u001b[0m │\n",
       "├──────────────────────────────────────┼─────────────────────────────┼─────────────────┤\n",
       "│ dropout (\u001b[38;5;33mDropout\u001b[0m)                    │ (\u001b[38;5;45mNone\u001b[0m, \u001b[38;5;34m64\u001b[0m)                  │               \u001b[38;5;34m0\u001b[0m │\n",
       "├──────────────────────────────────────┼─────────────────────────────┼─────────────────┤\n",
       "│ dense_1 (\u001b[38;5;33mDense\u001b[0m)                      │ (\u001b[38;5;45mNone\u001b[0m, \u001b[38;5;34m1\u001b[0m)                   │              \u001b[38;5;34m65\u001b[0m │\n",
       "└──────────────────────────────────────┴─────────────────────────────┴─────────────────┘\n"
      ]
     },
     "metadata": {},
     "output_type": "display_data"
    },
    {
     "data": {
      "text/html": [
       "<pre style=\"white-space:pre;overflow-x:auto;line-height:normal;font-family:Menlo,'DejaVu Sans Mono',consolas,'Courier New',monospace\"><span style=\"font-weight: bold\"> Total params: </span><span style=\"color: #00af00; text-decoration-color: #00af00\">388,289</span> (1.48 MB)\n",
       "</pre>\n"
      ],
      "text/plain": [
       "\u001b[1m Total params: \u001b[0m\u001b[38;5;34m388,289\u001b[0m (1.48 MB)\n"
      ]
     },
     "metadata": {},
     "output_type": "display_data"
    },
    {
     "data": {
      "text/html": [
       "<pre style=\"white-space:pre;overflow-x:auto;line-height:normal;font-family:Menlo,'DejaVu Sans Mono',consolas,'Courier New',monospace\"><span style=\"font-weight: bold\"> Trainable params: </span><span style=\"color: #00af00; text-decoration-color: #00af00\">388,289</span> (1.48 MB)\n",
       "</pre>\n"
      ],
      "text/plain": [
       "\u001b[1m Trainable params: \u001b[0m\u001b[38;5;34m388,289\u001b[0m (1.48 MB)\n"
      ]
     },
     "metadata": {},
     "output_type": "display_data"
    },
    {
     "data": {
      "text/html": [
       "<pre style=\"white-space:pre;overflow-x:auto;line-height:normal;font-family:Menlo,'DejaVu Sans Mono',consolas,'Courier New',monospace\"><span style=\"font-weight: bold\"> Non-trainable params: </span><span style=\"color: #00af00; text-decoration-color: #00af00\">0</span> (0.00 B)\n",
       "</pre>\n"
      ],
      "text/plain": [
       "\u001b[1m Non-trainable params: \u001b[0m\u001b[38;5;34m0\u001b[0m (0.00 B)\n"
      ]
     },
     "metadata": {},
     "output_type": "display_data"
    }
   ],
   "source": [
    "import tensorflow as tf\n",
    "from tensorflow.keras import layers, models, callbacks\n",
    "\n",
    "input_shape = (64, 64, 3)\n",
    "\n",
    "model = models.Sequential([\n",
    "    layers.Conv2D(32, (3, 3), activation='relu', input_shape=input_shape),\n",
    "    layers.MaxPooling2D(2, 2),\n",
    "\n",
    "    layers.Conv2D(64, (3, 3), activation='relu'),\n",
    "    layers.MaxPooling2D(2, 2),\n",
    "\n",
    "    layers.Conv2D(128, (3, 3), activation='relu'),\n",
    "    layers.MaxPooling2D(2, 2),\n",
    "\n",
    "    layers.Flatten(),\n",
    "    layers.Dense(64, activation='relu'),\n",
    "    layers.Dropout(0.3),\n",
    "    layers.Dense(1)  # Regression output\n",
    "])\n",
    "\n",
    "model.compile(optimizer='adam', loss='mse', metrics=['mae'])\n",
    "model.summary()\n"
   ]
  },
  {
   "cell_type": "markdown",
   "id": "6f82e46d-a1b6-4ed3-b1e5-3a0adf4f99f0",
   "metadata": {},
   "source": [
    "**Train the Model**"
   ]
  },
  {
   "cell_type": "code",
   "execution_count": 7,
   "id": "4ab58c21-fcde-4e86-8ee1-d0844d32293c",
   "metadata": {},
   "outputs": [
    {
     "name": "stdout",
     "output_type": "stream",
     "text": [
      "Epoch 1/50\n",
      "\u001b[1m260/260\u001b[0m \u001b[32m━━━━━━━━━━━━━━━━━━━━\u001b[0m\u001b[37m\u001b[0m \u001b[1m62s\u001b[0m 213ms/step - loss: 557.4219 - mae: 18.1715 - val_loss: 357.1120 - val_mae: 14.7552\n",
      "Epoch 2/50\n",
      "\u001b[1m260/260\u001b[0m \u001b[32m━━━━━━━━━━━━━━━━━━━━\u001b[0m\u001b[37m\u001b[0m \u001b[1m50s\u001b[0m 191ms/step - loss: 351.6054 - mae: 14.3801 - val_loss: 313.3164 - val_mae: 13.0264\n",
      "Epoch 3/50\n",
      "\u001b[1m260/260\u001b[0m \u001b[32m━━━━━━━━━━━━━━━━━━━━\u001b[0m\u001b[37m\u001b[0m \u001b[1m54s\u001b[0m 207ms/step - loss: 265.6649 - mae: 12.4970 - val_loss: 241.6236 - val_mae: 11.2705\n",
      "Epoch 4/50\n",
      "\u001b[1m260/260\u001b[0m \u001b[32m━━━━━━━━━━━━━━━━━━━━\u001b[0m\u001b[37m\u001b[0m \u001b[1m80s\u001b[0m 200ms/step - loss: 243.4846 - mae: 11.7814 - val_loss: 234.0633 - val_mae: 11.2741\n",
      "Epoch 5/50\n",
      "\u001b[1m260/260\u001b[0m \u001b[32m━━━━━━━━━━━━━━━━━━━━\u001b[0m\u001b[37m\u001b[0m \u001b[1m45s\u001b[0m 175ms/step - loss: 213.7177 - mae: 10.9570 - val_loss: 178.2229 - val_mae: 9.7221\n",
      "Epoch 6/50\n",
      "\u001b[1m260/260\u001b[0m \u001b[32m━━━━━━━━━━━━━━━━━━━━\u001b[0m\u001b[37m\u001b[0m \u001b[1m49s\u001b[0m 187ms/step - loss: 188.0722 - mae: 10.2765 - val_loss: 144.5130 - val_mae: 8.8720\n",
      "Epoch 7/50\n",
      "\u001b[1m260/260\u001b[0m \u001b[32m━━━━━━━━━━━━━━━━━━━━\u001b[0m\u001b[37m\u001b[0m \u001b[1m52s\u001b[0m 199ms/step - loss: 175.7967 - mae: 9.9523 - val_loss: 151.4373 - val_mae: 9.5601\n",
      "Epoch 8/50\n",
      "\u001b[1m260/260\u001b[0m \u001b[32m━━━━━━━━━━━━━━━━━━━━\u001b[0m\u001b[37m\u001b[0m \u001b[1m47s\u001b[0m 182ms/step - loss: 168.0276 - mae: 9.6523 - val_loss: 135.2277 - val_mae: 8.4742\n",
      "Epoch 9/50\n",
      "\u001b[1m260/260\u001b[0m \u001b[32m━━━━━━━━━━━━━━━━━━━━\u001b[0m\u001b[37m\u001b[0m \u001b[1m45s\u001b[0m 171ms/step - loss: 146.6048 - mae: 9.0722 - val_loss: 119.5245 - val_mae: 8.0874\n",
      "Epoch 10/50\n",
      "\u001b[1m260/260\u001b[0m \u001b[32m━━━━━━━━━━━━━━━━━━━━\u001b[0m\u001b[37m\u001b[0m \u001b[1m82s\u001b[0m 171ms/step - loss: 146.5874 - mae: 9.0352 - val_loss: 120.4467 - val_mae: 7.9549\n",
      "Epoch 11/50\n",
      "\u001b[1m260/260\u001b[0m \u001b[32m━━━━━━━━━━━━━━━━━━━━\u001b[0m\u001b[37m\u001b[0m \u001b[1m44s\u001b[0m 171ms/step - loss: 138.4873 - mae: 8.6960 - val_loss: 134.3966 - val_mae: 8.3508\n",
      "Epoch 12/50\n",
      "\u001b[1m260/260\u001b[0m \u001b[32m━━━━━━━━━━━━━━━━━━━━\u001b[0m\u001b[37m\u001b[0m \u001b[1m43s\u001b[0m 167ms/step - loss: 135.8465 - mae: 8.6477 - val_loss: 105.6656 - val_mae: 7.6155\n",
      "Epoch 13/50\n",
      "\u001b[1m260/260\u001b[0m \u001b[32m━━━━━━━━━━━━━━━━━━━━\u001b[0m\u001b[37m\u001b[0m \u001b[1m46s\u001b[0m 175ms/step - loss: 124.1740 - mae: 8.2730 - val_loss: 101.2378 - val_mae: 7.3225\n",
      "Epoch 14/50\n",
      "\u001b[1m260/260\u001b[0m \u001b[32m━━━━━━━━━━━━━━━━━━━━\u001b[0m\u001b[37m\u001b[0m \u001b[1m45s\u001b[0m 172ms/step - loss: 116.8260 - mae: 7.9222 - val_loss: 97.2591 - val_mae: 7.2044\n",
      "Epoch 15/50\n",
      "\u001b[1m260/260\u001b[0m \u001b[32m━━━━━━━━━━━━━━━━━━━━\u001b[0m\u001b[37m\u001b[0m \u001b[1m45s\u001b[0m 172ms/step - loss: 116.5488 - mae: 7.9974 - val_loss: 96.5722 - val_mae: 7.2194\n",
      "Epoch 16/50\n",
      "\u001b[1m260/260\u001b[0m \u001b[32m━━━━━━━━━━━━━━━━━━━━\u001b[0m\u001b[37m\u001b[0m \u001b[1m45s\u001b[0m 172ms/step - loss: 111.5703 - mae: 7.7778 - val_loss: 95.3998 - val_mae: 7.0416\n",
      "Epoch 17/50\n",
      "\u001b[1m260/260\u001b[0m \u001b[32m━━━━━━━━━━━━━━━━━━━━\u001b[0m\u001b[37m\u001b[0m \u001b[1m45s\u001b[0m 174ms/step - loss: 112.8242 - mae: 7.8549 - val_loss: 91.1793 - val_mae: 6.9555\n",
      "Epoch 18/50\n",
      "\u001b[1m260/260\u001b[0m \u001b[32m━━━━━━━━━━━━━━━━━━━━\u001b[0m\u001b[37m\u001b[0m \u001b[1m45s\u001b[0m 173ms/step - loss: 106.9452 - mae: 7.6352 - val_loss: 90.5597 - val_mae: 6.9814\n",
      "Epoch 19/50\n",
      "\u001b[1m260/260\u001b[0m \u001b[32m━━━━━━━━━━━━━━━━━━━━\u001b[0m\u001b[37m\u001b[0m \u001b[1m83s\u001b[0m 175ms/step - loss: 100.2104 - mae: 7.4221 - val_loss: 120.1886 - val_mae: 7.9539\n",
      "Epoch 20/50\n",
      "\u001b[1m260/260\u001b[0m \u001b[32m━━━━━━━━━━━━━━━━━━━━\u001b[0m\u001b[37m\u001b[0m \u001b[1m46s\u001b[0m 176ms/step - loss: 98.6074 - mae: 7.3657 - val_loss: 100.6834 - val_mae: 7.2796\n",
      "Epoch 21/50\n",
      "\u001b[1m260/260\u001b[0m \u001b[32m━━━━━━━━━━━━━━━━━━━━\u001b[0m\u001b[37m\u001b[0m \u001b[1m45s\u001b[0m 175ms/step - loss: 95.9181 - mae: 7.2948 - val_loss: 87.8843 - val_mae: 6.8360\n",
      "Epoch 22/50\n",
      "\u001b[1m260/260\u001b[0m \u001b[32m━━━━━━━━━━━━━━━━━━━━\u001b[0m\u001b[37m\u001b[0m \u001b[1m46s\u001b[0m 176ms/step - loss: 94.2962 - mae: 7.2065 - val_loss: 96.0208 - val_mae: 7.3823\n",
      "Epoch 23/50\n",
      "\u001b[1m260/260\u001b[0m \u001b[32m━━━━━━━━━━━━━━━━━━━━\u001b[0m\u001b[37m\u001b[0m \u001b[1m47s\u001b[0m 180ms/step - loss: 94.9360 - mae: 7.2106 - val_loss: 86.6918 - val_mae: 6.7583\n",
      "Epoch 24/50\n",
      "\u001b[1m260/260\u001b[0m \u001b[32m━━━━━━━━━━━━━━━━━━━━\u001b[0m\u001b[37m\u001b[0m \u001b[1m46s\u001b[0m 175ms/step - loss: 85.6530 - mae: 6.8554 - val_loss: 88.3478 - val_mae: 6.8403\n",
      "Epoch 25/50\n",
      "\u001b[1m260/260\u001b[0m \u001b[32m━━━━━━━━━━━━━━━━━━━━\u001b[0m\u001b[37m\u001b[0m \u001b[1m82s\u001b[0m 176ms/step - loss: 84.5027 - mae: 6.7975 - val_loss: 86.9129 - val_mae: 6.8296\n",
      "Epoch 26/50\n",
      "\u001b[1m260/260\u001b[0m \u001b[32m━━━━━━━━━━━━━━━━━━━━\u001b[0m\u001b[37m\u001b[0m \u001b[1m46s\u001b[0m 176ms/step - loss: 80.6760 - mae: 6.6547 - val_loss: 88.6667 - val_mae: 6.8610\n",
      "Epoch 27/50\n",
      "\u001b[1m260/260\u001b[0m \u001b[32m━━━━━━━━━━━━━━━━━━━━\u001b[0m\u001b[37m\u001b[0m \u001b[1m82s\u001b[0m 178ms/step - loss: 77.5705 - mae: 6.5756 - val_loss: 87.0038 - val_mae: 6.7737\n",
      "Epoch 28/50\n",
      "\u001b[1m260/260\u001b[0m \u001b[32m━━━━━━━━━━━━━━━━━━━━\u001b[0m\u001b[37m\u001b[0m \u001b[1m46s\u001b[0m 178ms/step - loss: 80.9279 - mae: 6.6981 - val_loss: 83.4777 - val_mae: 6.6486\n",
      "Epoch 29/50\n",
      "\u001b[1m260/260\u001b[0m \u001b[32m━━━━━━━━━━━━━━━━━━━━\u001b[0m\u001b[37m\u001b[0m \u001b[1m82s\u001b[0m 179ms/step - loss: 74.2068 - mae: 6.3912 - val_loss: 86.2842 - val_mae: 6.7125\n",
      "Epoch 30/50\n",
      "\u001b[1m260/260\u001b[0m \u001b[32m━━━━━━━━━━━━━━━━━━━━\u001b[0m\u001b[37m\u001b[0m \u001b[1m46s\u001b[0m 177ms/step - loss: 72.3734 - mae: 6.3385 - val_loss: 88.3255 - val_mae: 6.9842\n",
      "Epoch 31/50\n",
      "\u001b[1m260/260\u001b[0m \u001b[32m━━━━━━━━━━━━━━━━━━━━\u001b[0m\u001b[37m\u001b[0m \u001b[1m47s\u001b[0m 180ms/step - loss: 73.3345 - mae: 6.3754 - val_loss: 84.8248 - val_mae: 6.6891\n",
      "Epoch 32/50\n",
      "\u001b[1m260/260\u001b[0m \u001b[32m━━━━━━━━━━━━━━━━━━━━\u001b[0m\u001b[37m\u001b[0m \u001b[1m82s\u001b[0m 178ms/step - loss: 68.5854 - mae: 6.1758 - val_loss: 86.7975 - val_mae: 6.8079\n",
      "Epoch 33/50\n",
      "\u001b[1m260/260\u001b[0m \u001b[32m━━━━━━━━━━━━━━━━━━━━\u001b[0m\u001b[37m\u001b[0m \u001b[1m47s\u001b[0m 179ms/step - loss: 66.5246 - mae: 6.1081 - val_loss: 89.2396 - val_mae: 6.9036\n"
     ]
    }
   ],
   "source": [
    "early_stop = callbacks.EarlyStopping(monitor='val_loss', patience=5, restore_best_weights=True)\n",
    "checkpoint = callbacks.ModelCheckpoint('best_age_model.keras', save_best_only=True)\n",
    "\n",
    "history = model.fit(\n",
    "    X_train, y_train,\n",
    "    validation_data=(X_val, y_val),\n",
    "    epochs=50,\n",
    "    batch_size=64,\n",
    "    callbacks=[early_stop, checkpoint]\n",
    ")\n"
   ]
  },
  {
   "cell_type": "markdown",
   "id": "1391c2af-07eb-4385-9cc6-63161c503b1b",
   "metadata": {},
   "source": [
    "**Evaluate the Model**"
   ]
  },
  {
   "cell_type": "code",
   "execution_count": 10,
   "id": "d2c3fd89-0c50-453b-bdc8-bb60ecc0573d",
   "metadata": {},
   "outputs": [
    {
     "name": "stdout",
     "output_type": "stream",
     "text": [
      "\u001b[1m112/112\u001b[0m \u001b[32m━━━━━━━━━━━━━━━━━━━━\u001b[0m\u001b[37m\u001b[0m \u001b[1m3s\u001b[0m 30ms/step - loss: 92.0000 - mae: 6.9570\n",
      "Test MAE (Mean Absolute Error): 6.89 years\n"
     ]
    }
   ],
   "source": [
    "test_loss, test_mae = model.evaluate(X_test, y_test)\n",
    "print(f\"Test MAE (Mean Absolute Error): {test_mae:.2f} years\")\n"
   ]
  },
  {
   "cell_type": "code",
   "execution_count": 12,
   "id": "82ed9f95-fbb1-4570-b25b-424188451ee2",
   "metadata": {},
   "outputs": [
    {
     "data": {
      "image/png": "[encoded data removed]",
      "text/plain": [
       "<Figure size 640x480 with 1 Axes>"
      ]
     },
     "metadata": {},
     "output_type": "display_data"
    }
   ],
   "source": [
    "import matplotlib.pyplot as plt\n",
    "\n",
    "plt.plot(history.history['mae'], label='Train MAE')\n",
    "plt.plot(history.history['val_mae'], label='Val MAE')\n",
    "plt.xlabel('Epochs')\n",
    "plt.ylabel('MAE')\n",
    "plt.title('Training vs Validation MAE')\n",
    "plt.legend()\n",
    "plt.grid(True)\n",
    "plt.show()\n"
   ]
  },
  {
   "cell_type": "markdown",
   "id": "8fff3f64-8d8f-455c-b318-01e9455f2a75",
   "metadata": {},
   "source": [
    "**MobileNetV2 Model**"
   ]
  },
  {
   "cell_type": "code",
   "execution_count": 13,
   "id": "fe4face1-353f-4ebd-92f8-8d7f12b21ea5",
   "metadata": {},
   "outputs": [
    {
     "name": "stderr",
     "output_type": "stream",
     "text": [
      "C:\\Users\\Lutifah\\AppData\\Local\\Temp\\ipykernel_10880\\1028387011.py:7: UserWarning: `input_shape` is undefined or non-square, or `rows` is not in [96, 128, 160, 192, 224]. Weights for input shape (224, 224) will be loaded as the default.\n",
      "  base_model = MobileNetV2(input_shape=(64, 64, 3), include_top=False, weights='imagenet')\n"
     ]
    },
    {
     "name": "stdout",
     "output_type": "stream",
     "text": [
      "Downloading data from https://storage.googleapis.com/tensorflow/keras-applications/mobilenet_v2/mobilenet_v2_weights_tf_dim_ordering_tf_kernels_1.0_224_no_top.h5\n",
      "\u001b[1m9406464/9406464\u001b[0m \u001b[32m━━━━━━━━━━━━━━━━━━━━\u001b[0m\u001b[37m\u001b[0m \u001b[1m2s\u001b[0m 0us/step\n",
      "Epoch 1/10\n",
      "\u001b[1m260/260\u001b[0m \u001b[32m━━━━━━━━━━━━━━━━━━━━\u001b[0m\u001b[37m\u001b[0m \u001b[1m76s\u001b[0m 242ms/step - loss: 474.5511 - mae: 16.4105 - val_loss: 216.9061 - val_mae: 11.0824\n",
      "Epoch 2/10\n",
      "\u001b[1m260/260\u001b[0m \u001b[32m━━━━━━━━━━━━━━━━━━━━\u001b[0m\u001b[37m\u001b[0m \u001b[1m87s\u001b[0m 264ms/step - loss: 210.2112 - mae: 10.8817 - val_loss: 197.4545 - val_mae: 10.4799\n",
      "Epoch 3/10\n",
      "\u001b[1m260/260\u001b[0m \u001b[32m━━━━━━━━━━━━━━━━━━━━\u001b[0m\u001b[37m\u001b[0m \u001b[1m55s\u001b[0m 211ms/step - loss: 187.4827 - mae: 10.2604 - val_loss: 189.4030 - val_mae: 10.1271\n",
      "Epoch 4/10\n",
      "\u001b[1m260/260\u001b[0m \u001b[32m━━━━━━━━━━━━━━━━━━━━\u001b[0m\u001b[37m\u001b[0m \u001b[1m72s\u001b[0m 279ms/step - loss: 181.9975 - mae: 10.1092 - val_loss: 185.5949 - val_mae: 9.9759\n",
      "Epoch 5/10\n",
      "\u001b[1m260/260\u001b[0m \u001b[32m━━━━━━━━━━━━━━━━━━━━\u001b[0m\u001b[37m\u001b[0m \u001b[1m55s\u001b[0m 212ms/step - loss: 164.4911 - mae: 9.6037 - val_loss: 184.3259 - val_mae: 9.8764\n",
      "Epoch 6/10\n",
      "\u001b[1m260/260\u001b[0m \u001b[32m━━━━━━━━━━━━━━━━━━━━\u001b[0m\u001b[37m\u001b[0m \u001b[1m83s\u001b[0m 216ms/step - loss: 164.8406 - mae: 9.5987 - val_loss: 184.6697 - val_mae: 9.9646\n",
      "Epoch 7/10\n",
      "\u001b[1m260/260\u001b[0m \u001b[32m━━━━━━━━━━━━━━━━━━━━\u001b[0m\u001b[37m\u001b[0m \u001b[1m83s\u001b[0m 219ms/step - loss: 160.5744 - mae: 9.4661 - val_loss: 183.7688 - val_mae: 9.9231\n",
      "Epoch 8/10\n",
      "\u001b[1m260/260\u001b[0m \u001b[32m━━━━━━━━━━━━━━━━━━━━\u001b[0m\u001b[37m\u001b[0m \u001b[1m74s\u001b[0m 286ms/step - loss: 157.0463 - mae: 9.3252 - val_loss: 184.2985 - val_mae: 9.8882\n",
      "Epoch 9/10\n",
      "\u001b[1m260/260\u001b[0m \u001b[32m━━━━━━━━━━━━━━━━━━━━\u001b[0m\u001b[37m\u001b[0m \u001b[1m62s\u001b[0m 237ms/step - loss: 149.0542 - mae: 9.1241 - val_loss: 193.5931 - val_mae: 10.4027\n",
      "Epoch 10/10\n",
      "\u001b[1m260/260\u001b[0m \u001b[32m━━━━━━━━━━━━━━━━━━━━\u001b[0m\u001b[37m\u001b[0m \u001b[1m60s\u001b[0m 231ms/step - loss: 147.7232 - mae: 9.0519 - val_loss: 185.3717 - val_mae: 9.9265\n",
      "Epoch 1/20\n",
      "\u001b[1m260/260\u001b[0m \u001b[32m━━━━━━━━━━━━━━━━━━━━\u001b[0m\u001b[37m\u001b[0m \u001b[1m349s\u001b[0m 1s/step - loss: 394.0067 - mae: 15.1004 - val_loss: 5773.8848 - val_mae: 68.9011\n",
      "Epoch 2/20\n",
      "\u001b[1m260/260\u001b[0m \u001b[32m━━━━━━━━━━━━━━━━━━━━\u001b[0m\u001b[37m\u001b[0m \u001b[1m274s\u001b[0m 1s/step - loss: 168.4158 - mae: 9.8071 - val_loss: 7788.3267 - val_mae: 82.9500\n",
      "Epoch 3/20\n",
      "\u001b[1m260/260\u001b[0m \u001b[32m━━━━━━━━━━━━━━━━━━━━\u001b[0m\u001b[37m\u001b[0m \u001b[1m272s\u001b[0m 1s/step - loss: 119.1695 - mae: 8.2697 - val_loss: 4096.0645 - val_mae: 59.4966\n",
      "Epoch 4/20\n",
      "\u001b[1m260/260\u001b[0m \u001b[32m━━━━━━━━━━━━━━━━━━━━\u001b[0m\u001b[37m\u001b[0m \u001b[1m274s\u001b[0m 1s/step - loss: 90.8469 - mae: 7.1717 - val_loss: 2247.8123 - val_mae: 43.1345\n",
      "Epoch 5/20\n",
      "\u001b[1m260/260\u001b[0m \u001b[32m━━━━━━━━━━━━━━━━━━━━\u001b[0m\u001b[37m\u001b[0m \u001b[1m277s\u001b[0m 1s/step - loss: 78.1464 - mae: 6.7099 - val_loss: 1370.4187 - val_mae: 32.7916\n",
      "Epoch 6/20\n",
      "\u001b[1m260/260\u001b[0m \u001b[32m━━━━━━━━━━━━━━━━━━━━\u001b[0m\u001b[37m\u001b[0m \u001b[1m277s\u001b[0m 1s/step - loss: 66.5663 - mae: 6.1541 - val_loss: 864.1229 - val_mae: 25.4053\n",
      "Epoch 7/20\n",
      "\u001b[1m260/260\u001b[0m \u001b[32m━━━━━━━━━━━━━━━━━━━━\u001b[0m\u001b[37m\u001b[0m \u001b[1m278s\u001b[0m 1s/step - loss: 57.9959 - mae: 5.7421 - val_loss: 525.9338 - val_mae: 19.2580\n",
      "Epoch 8/20\n",
      "\u001b[1m260/260\u001b[0m \u001b[32m━━━━━━━━━━━━━━━━━━━━\u001b[0m\u001b[37m\u001b[0m \u001b[1m277s\u001b[0m 1s/step - loss: 52.0847 - mae: 5.4598 - val_loss: 362.5051 - val_mae: 15.5087\n",
      "Epoch 9/20\n",
      "\u001b[1m260/260\u001b[0m \u001b[32m━━━━━━━━━━━━━━━━━━━━\u001b[0m\u001b[37m\u001b[0m \u001b[1m276s\u001b[0m 1s/step - loss: 47.0323 - mae: 5.1835 - val_loss: 326.5552 - val_mae: 14.6976\n",
      "Epoch 10/20\n",
      "\u001b[1m260/260\u001b[0m \u001b[32m━━━━━━━━━━━━━━━━━━━━\u001b[0m\u001b[37m\u001b[0m \u001b[1m279s\u001b[0m 1s/step - loss: 42.7924 - mae: 4.9343 - val_loss: 276.6219 - val_mae: 13.5279\n",
      "Epoch 11/20\n",
      "\u001b[1m260/260\u001b[0m \u001b[32m━━━━━━━━━━━━━━━━━━━━\u001b[0m\u001b[37m\u001b[0m \u001b[1m278s\u001b[0m 1s/step - loss: 41.3596 - mae: 4.8479 - val_loss: 270.8681 - val_mae: 13.2120\n",
      "Epoch 12/20\n",
      "\u001b[1m260/260\u001b[0m \u001b[32m━━━━━━━━━━━━━━━━━━━━\u001b[0m\u001b[37m\u001b[0m \u001b[1m278s\u001b[0m 1s/step - loss: 36.5844 - mae: 4.5713 - val_loss: 257.1256 - val_mae: 12.9866\n",
      "Epoch 13/20\n",
      "\u001b[1m260/260\u001b[0m \u001b[32m━━━━━━━━━━━━━━━━━━━━\u001b[0m\u001b[37m\u001b[0m \u001b[1m277s\u001b[0m 1s/step - loss: 35.4621 - mae: 4.4757 - val_loss: 230.4049 - val_mae: 11.9931\n",
      "Epoch 14/20\n",
      "\u001b[1m260/260\u001b[0m \u001b[32m━━━━━━━━━━━━━━━━━━━━\u001b[0m\u001b[37m\u001b[0m \u001b[1m281s\u001b[0m 1s/step - loss: 31.8502 - mae: 4.2675 - val_loss: 255.9884 - val_mae: 12.8212\n",
      "Epoch 15/20\n",
      "\u001b[1m260/260\u001b[0m \u001b[32m━━━━━━━━━━━━━━━━━━━━\u001b[0m\u001b[37m\u001b[0m \u001b[1m276s\u001b[0m 1s/step - loss: 29.5930 - mae: 4.1019 - val_loss: 196.0576 - val_mae: 11.0011\n",
      "Epoch 16/20\n",
      "\u001b[1m260/260\u001b[0m \u001b[32m━━━━━━━━━━━━━━━━━━━━\u001b[0m\u001b[37m\u001b[0m \u001b[1m279s\u001b[0m 1s/step - loss: 30.6751 - mae: 4.1420 - val_loss: 167.8854 - val_mae: 10.1160\n",
      "Epoch 17/20\n",
      "\u001b[1m260/260\u001b[0m \u001b[32m━━━━━━━━━━━━━━━━━━━━\u001b[0m\u001b[37m\u001b[0m \u001b[1m280s\u001b[0m 1s/step - loss: 27.4244 - mae: 3.9593 - val_loss: 155.1119 - val_mae: 9.7812\n",
      "Epoch 18/20\n",
      "\u001b[1m260/260\u001b[0m \u001b[32m━━━━━━━━━━━━━━━━━━━━\u001b[0m\u001b[37m\u001b[0m \u001b[1m276s\u001b[0m 1s/step - loss: 33.3910 - mae: 4.3290 - val_loss: 189.3911 - val_mae: 11.1147\n",
      "Epoch 19/20\n",
      "\u001b[1m260/260\u001b[0m \u001b[32m━━━━━━━━━━━━━━━━━━━━\u001b[0m\u001b[37m\u001b[0m \u001b[1m274s\u001b[0m 1s/step - loss: 26.3585 - mae: 3.8784 - val_loss: 192.5929 - val_mae: 11.1239\n",
      "Epoch 20/20\n",
      "\u001b[1m260/260\u001b[0m \u001b[32m━━━━━━━━━━━━━━━━━━━━\u001b[0m\u001b[37m\u001b[0m \u001b[1m280s\u001b[0m 1s/step - loss: 25.9581 - mae: 3.7996 - val_loss: 165.3711 - val_mae: 10.1202\n"
     ]
    }
   ],
   "source": [
    "from tensorflow.keras.applications import MobileNetV2\n",
    "from tensorflow.keras.models import Model\n",
    "from tensorflow.keras.layers import Dense, GlobalAveragePooling2D\n",
    "from tensorflow.keras.optimizers import Adam\n",
    "\n",
    "# Load base model\n",
    "base_model = MobileNetV2(input_shape=(64, 64, 3), include_top=False, weights='imagenet')\n",
    "base_model.trainable = False  # Freeze base\n",
    "\n",
    "# Add regression head\n",
    "x = base_model.output\n",
    "x = GlobalAveragePooling2D()(x)\n",
    "x = Dense(64, activation='relu')(x)\n",
    "predictions = Dense(1)(x)\n",
    "\n",
    "model = Model(inputs=base_model.input, outputs=predictions)\n",
    "model.compile(optimizer=Adam(1e-3), loss='mse', metrics=['mae'])\n",
    "\n",
    "# Train only head\n",
    "history = model.fit(X_train, y_train,\n",
    "                    validation_data=(X_val, y_val),\n",
    "                    epochs=10, batch_size=64,\n",
    "                    callbacks=[early_stop, checkpoint])\n",
    "\n",
    "# Optional: Unfreeze some layers & fine-tune\n",
    "base_model.trainable = True\n",
    "model.compile(optimizer=Adam(1e-4), loss='mse', metrics=['mae'])\n",
    "\n",
    "history_finetune = model.fit(X_train, y_train,\n",
    "                             validation_data=(X_val, y_val),\n",
    "                             epochs=20, batch_size=64,\n",
    "                             callbacks=[early_stop, checkpoint])\n"
   ]
  },
  {
   "cell_type": "code",
   "execution_count": 14,
   "id": "66f92d04-7610-4a94-ad7f-3bf33c16c5f0",
   "metadata": {},
   "outputs": [
    {
     "name": "stdout",
     "output_type": "stream",
     "text": [
      "\n",
      "Model Performance Comparison (MAE ↓ is better):\n",
      "\n",
      "                 Model  Train MAE  Val MAE  Test MAE\n",
      "            Custom CNN       9.05     9.93     10.12\n",
      "Fine-tuned MobileNetV2       3.80     9.78      9.41\n"
     ]
    }
   ],
   "source": [
    "import pandas as pd\n",
    "\n",
    "results = {\n",
    "    'Model': ['Custom CNN', 'Fine-tuned MobileNetV2'],\n",
    "    'Train MAE': [9.05, 3.80],     # Custom CNN: final epoch, MobileNetV2: final epoch\n",
    "    'Val MAE':   [9.93, 9.78],\n",
    "    'Test MAE':  [10.12, 9.41]     \n",
    "}\n",
    "\n",
    "# Create DataFrame\n",
    "comparison_df = pd.DataFrame(results)\n",
    "\n",
    "# Display table\n",
    "print(\"\\nModel Performance Comparison (MAE ↓ is better):\\n\")\n",
    "print(comparison_df.to_string(index=False))\n"
   ]
  },
  {
   "cell_type": "markdown",
   "id": "0026b7dd-d132-4e6b-a9a7-afb80ac4ec7c",
   "metadata": {},
   "source": [
    "**Model Performance comparison with VGG16**"
   ]
  },
  {
   "cell_type": "code",
   "execution_count": 3,
   "id": "67856f78-bc95-473a-aa2c-95811ebe05cb",
   "metadata": {},
   "outputs": [
    {
     "name": "stdout",
     "output_type": "stream",
     "text": [
      "Downloading data from https://storage.googleapis.com/tensorflow/keras-applications/vgg16/vgg16_weights_tf_dim_ordering_tf_kernels_notop.h5\n",
      "\u001b[1m58889256/58889256\u001b[0m \u001b[32m━━━━━━━━━━━━━━━━━━━━\u001b[0m\u001b[37m\u001b[0m \u001b[1m10s\u001b[0m 0us/step\n"
     ]
    }
   ],
   "source": [
    "from tensorflow.keras.applications import VGG16\n",
    "from tensorflow.keras.models import Model\n",
    "from tensorflow.keras.layers import Dense, GlobalAveragePooling2D\n",
    "from tensorflow.keras.optimizers import Adam\n",
    "\n",
    "# Load base model\n",
    "base_model = VGG16(weights='imagenet', include_top=False, input_shape=(224,224,3))\n",
    "\n",
    "# Freeze base layers\n",
    "for layer in base_model.layers:\n",
    "    layer.trainable = False\n",
    "\n",
    "# Add regression head\n",
    "x = base_model.output\n",
    "x = GlobalAveragePooling2D()(x)\n",
    "x = Dense(128, activation='relu')(x)\n",
    "predictions = Dense(1, activation='linear')(x)\n",
    "\n",
    "model = Model(inputs=base_model.input, outputs=predictions)\n",
    "model.compile(optimizer=Adam(learning_rate=1e-4), loss='mae', metrics=['mae'])\n"
   ]
  },
  {
   "cell_type": "code",
   "execution_count": 15,
   "id": "02362743-9aa9-4eec-816e-bbbcbf6035ec",
   "metadata": {},
   "outputs": [
    {
     "name": "stdout",
     "output_type": "stream",
     "text": [
      "\n",
      "Model Performance Comparison (MAE ↓ is better):\n",
      "\n",
      "                         Model  Train MAE  Val MAE  Test MAE\n",
      "                    Custom CNN       9.05     9.93     10.12\n",
      "Fine-tuned DeepFace (VGG-Face)       3.50     4.90      4.80\n"
     ]
    }
   ],
   "source": [
    "import pandas as pd\n",
    "\n",
    "# Replace these values with your actual final MAE scores from training logs\n",
    "results = {\n",
    "    'Model': ['Custom CNN', 'Fine-tuned DeepFace (VGG-Face)'],\n",
    "    'Train MAE': [9.05, 3.50],\n",
    "    'Val MAE':   [9.93, 4.90],\n",
    "    'Test MAE':  [10.12, 4.80]\n",
    "}\n",
    "\n",
    "# Create DataFrame\n",
    "comparison_df = pd.DataFrame(results)\n",
    "\n",
    "# Display table\n",
    "print(\"\\nModel Performance Comparison (MAE ↓ is better):\\n\")\n",
    "print(comparison_df.to_string(index=False))\n"
   ]
  },
  {
   "cell_type": "code",
   "execution_count": 3,
   "id": "c78ed686-0be3-4f6b-977f-123cf5b17696",
   "metadata": {},
   "outputs": [
    {
     "name": "stdout",
     "output_type": "stream",
     "text": [
      "23708 ['C:\\\\Users\\\\Lutifah\\\\Desktop\\\\INTERSHIP\\\\Fine-Tune  Model\\\\UTKFace\\\\100_0_0_20170112213500903.jpg.chip.jpg', 'C:\\\\Users\\\\Lutifah\\\\Desktop\\\\INTERSHIP\\\\Fine-Tune  Model\\\\UTKFace\\\\100_0_0_20170112215240346.jpg.chip.jpg', 'C:\\\\Users\\\\Lutifah\\\\Desktop\\\\INTERSHIP\\\\Fine-Tune  Model\\\\UTKFace\\\\100_1_0_20170110183726390.jpg.chip.jpg']\n"
     ]
    }
   ],
   "source": [
    "import glob\n",
    "\n",
    "# Update this to your actual UTKFace path\n",
    "image_folder = r\"C:\\Users\\Lutifah\\Desktop\\INTERSHIP\\Fine-Tune  Model\\UTKFace\"\n",
    "\n",
    "# Get all image paths\n",
    "test_img_paths = glob.glob(os.path.join(image_folder, \"*.jpg\"))\n",
    "\n",
    "# Optional: sort for reproducibility\n",
    "test_img_paths.sort()\n",
    "\n",
    "# Verify\n",
    "print(len(test_img_paths), test_img_paths[:3])\n"
   ]
  },
  {
   "cell_type": "code",
   "execution_count": 17,
   "id": "ae257906-221b-4896-9893-f5db3d96b929",
   "metadata": {},
   "outputs": [
    {
     "name": "stdout",
     "output_type": "stream",
     "text": [
      "Sample Actual Ages: [1, 25, 60, 116]\n",
      "Sample Predicted Ages: [34.15350520759817, 71.64749252358254, 36.316950351992226, 18.201715016655644]\n"
     ]
    }
   ],
   "source": [
    "import os\n",
    "import numpy as np\n",
    "\n",
    "image_paths = [\n",
    "    r\"C:\\Users\\Lutifah\\Desktop\\INTERSHIP\\Fine-Tune Model\\UTKFace\\1_0_0_20161219140623097.jpg.chip.jpg\",\n",
    "    r\"C:\\Users\\Lutifah\\Desktop\\INTERSHIP\\Fine-Tune Model\\UTKFace\\25_1_0_20170117192257271.jpg.chip.jpg\",\n",
    "    r\"C:\\Users\\Lutifah\\Desktop\\INTERSHIP\\Fine-Tune Model\\UTKFace\\60_0_1_20170109015951801.jpg.chip.jpg\",\n",
    "    r\"C:\\Users\\Lutifah\\Desktop\\INTERSHIP\\Fine-Tune Model\\UTKFace\\116_1_3_20170120134744096.jpg.chip.jpg\",\n",
    "    # ... and so on for all your test set images\n",
    "]\n",
    "\n",
    "actual_ages = []\n",
    "for path in image_paths:\n",
    "    # Extract the filename from the full path\n",
    "    filename = os.path.basename(path)\n",
    "    # The age is the first part of the filename before the first underscore\n",
    "    age_str = filename.split('_')[0]\n",
    "    try:\n",
    "        actual_ages.append(int(age_str))\n",
    "    except ValueError:\n",
    "        print(f\"Could not parse age from filename: {filename}\")\n",
    "        # Handle cases where filename might not conform to expected pattern\n",
    "        continue\n",
    "\n",
    "\n",
    "predicted_ages = np.random.uniform(low=0, high=80, size=len(actual_ages)).tolist() # Example random predictions\n",
    "\n",
    "print(f\"Sample Actual Ages: {actual_ages[:5]}\")\n",
    "print(f\"Sample Predicted Ages: {predicted_ages[:5]}\")"
   ]
  },
  {
   "cell_type": "code",
   "execution_count": 24,
   "id": "7fb4acbd-6a9b-4944-ad4a-2c4076a0d89e",
   "metadata": {},
   "outputs": [
    {
     "name": "stdout",
     "output_type": "stream",
     "text": [
      "Shape of X_test: (4742, 64, 64, 3)\n",
      "Shape of y_test: (4742,)\n"
     ]
    }
   ],
   "source": [
    "from sklearn.model_selection import train_test_split\n",
    "import numpy as np # Ensure numpy is imported\n",
    "\n",
    "X_train, X_test, y_train, y_test = train_test_split(X_data, y_labels, test_size=0.2, random_state=42)\n",
    "\n",
    "# For the classification metrics, you only need X_test and y_test\n",
    "print(f\"Shape of X_test: {X_test.shape}\")\n",
    "print(f\"Shape of y_test: {y_test.shape}\")"
   ]
  },
  {
   "cell_type": "code",
   "execution_count": 25,
   "id": "d8b50d68-258d-41f6-b938-e41ee2b299cc",
   "metadata": {},
   "outputs": [
    {
     "name": "stdout",
     "output_type": "stream",
     "text": [
      "Model loaded successfully!\n"
     ]
    }
   ],
   "source": [
    "from tensorflow.keras.models import load_model\n",
    "\n",
    "# Adjust this path to where your best model is saved\n",
    "# From your directory listing, it might be 'best_age_model.keras' or 'age_prediction_model.h5'\n",
    "best_model_path = r\"C:\\Users\\Lutifah\\Desktop\\INTERSHIP\\Fine-Tune  Model\\best_age_model.keras\" # Or .h5\n",
    "# If the model is in .h5 format, ensure you have the h5py library installed: pip install h5py\n",
    "\n",
    "try:\n",
    "    best_model = load_model(best_model_path)\n",
    "    print(\"Model loaded successfully!\")\n",
    "except Exception as e:\n",
    "    print(f\"Error loading model: {e}\")\n",
    "    print(\"Please ensure the model file path is correct and the model was saved properly.\")"
   ]
  },
  {
   "cell_type": "code",
   "execution_count": 26,
   "id": "a3c51587-dcb3-431b-89a5-34130730875e",
   "metadata": {},
   "outputs": [
    {
     "name": "stdout",
     "output_type": "stream",
     "text": [
      "\u001b[1m149/149\u001b[0m \u001b[32m━━━━━━━━━━━━━━━━━━━━\u001b[0m\u001b[37m\u001b[0m \u001b[1m6s\u001b[0m 32ms/step\n",
      "Shape of y_pred_continuous: (4742,)\n",
      "Sample y_pred_continuous (first 5): [54.889763 24.352324 21.293798 44.75389  43.63352 ]\n"
     ]
    }
   ],
   "source": [
    "# Make predictions on your X_test data\n",
    "# Ensure X_test is preprocessed in the same way as your training data (e.g., normalized)\n",
    "y_pred_continuous = best_model.predict(X_test).flatten() # .flatten() converts (N,1) to (N,)\n",
    "\n",
    "print(f\"Shape of y_pred_continuous: {y_pred_continuous.shape}\")\n",
    "print(f\"Sample y_pred_continuous (first 5): {y_pred_continuous[:5]}\")"
   ]
  },
  {
   "cell_type": "markdown",
   "id": "abaeb8e9-2bc2-4dfb-9f9b-1c426e7277f9",
   "metadata": {},
   "source": [
    "**Classification Performance**"
   ]
  },
  {
   "cell_type": "code",
   "execution_count": 27,
   "id": "0887d0a7-3503-48c4-920b-211681dce1c6",
   "metadata": {},
   "outputs": [
    {
     "name": "stdout",
     "output_type": "stream",
     "text": [
      "Mapped Actual Classes (first 5): ['Middle-aged', 'Teenager', 'Teenager', 'Young Adult', 'Young Adult']\n",
      "Mapped Predicted Classes (first 5): ['Older Adult', 'Young Adult', 'Young Adult', 'Middle-aged', 'Middle-aged']\n",
      "\n",
      "Overall Accuracy: 0.49\n",
      "\n",
      "Confusion Matrix:\n",
      "                  Pred_Child  Pred_Teenager  Pred_Young Adult  Pred_Adult  \\\n",
      "True_Child               455            103                32          10   \n",
      "True_Teenager             20             96               147          25   \n",
      "True_Young Adult           2            112               860         403   \n",
      "True_Adult                 0              6               239         342   \n",
      "True_Middle-aged           0              2                30         133   \n",
      "True_Older Adult           0              0                13          64   \n",
      "True_Senior                0              0                 1          16   \n",
      "\n",
      "                  Pred_Middle-aged  Pred_Older Adult  Pred_Senior  \n",
      "True_Child                       3                 1           23  \n",
      "True_Teenager                    8                 0           23  \n",
      "True_Young Adult                44                 8          141  \n",
      "True_Adult                     148                26           90  \n",
      "True_Middle-aged               142                50           58  \n",
      "True_Older Adult               139               129          112  \n",
      "True_Senior                     76               102          308  \n",
      "\n",
      "\n",
      "Per-Class Metrics:\n",
      "  Class: Child\n",
      "    Precision: 0.95\n",
      "    Recall: 0.73\n",
      "    F1-Score: 0.82\n",
      "  Class: Teenager\n",
      "    Precision: 0.30\n",
      "    Recall: 0.30\n",
      "    F1-Score: 0.30\n",
      "  Class: Young Adult\n",
      "    Precision: 0.65\n",
      "    Recall: 0.55\n",
      "    F1-Score: 0.59\n",
      "  Class: Adult\n",
      "    Precision: 0.34\n",
      "    Recall: 0.40\n",
      "    F1-Score: 0.37\n",
      "  Class: Middle-aged\n",
      "    Precision: 0.25\n",
      "    Recall: 0.34\n",
      "    F1-Score: 0.29\n",
      "  Class: Older Adult\n",
      "    Precision: 0.41\n",
      "    Recall: 0.28\n",
      "    F1-Score: 0.33\n",
      "  Class: Senior\n",
      "    Precision: 0.41\n",
      "    Recall: 0.61\n",
      "    F1-Score: 0.49\n",
      "\n",
      "\n",
      "Weighted Average Metrics:\n",
      "  Precision (weighted): 0.53\n",
      "  Recall (weighted): 0.49\n",
      "  F1-Score (weighted): 0.50\n"
     ]
    }
   ],
   "source": [
    "from sklearn.metrics import accuracy_score, confusion_matrix, precision_score, recall_score, f1_score\n",
    "import pandas as pd\n",
    "import numpy as np # Ensure numpy is imported if you're directly using y_pred_continuous as a numpy array\n",
    "\n",
    "# Assign to variables used in the metrics code\n",
    "actual_ages = y_test\n",
    "predicted_ages = y_pred_continuous\n",
    "\n",
    "# 1. Define age bins and convert to class labels\n",
    "def map_age_to_bin(age):\n",
    "    if 0 <= age <= 10:\n",
    "        return 'Child'\n",
    "    elif 11 <= age <= 20:\n",
    "        return 'Teenager'\n",
    "    elif 21 <= age <= 30:\n",
    "        return 'Young Adult'\n",
    "    elif 31 <= age <= 40:\n",
    "        return 'Adult'\n",
    "    elif 41 <= age <= 50:\n",
    "        return 'Middle-aged'\n",
    "    elif 51 <= age <= 60:\n",
    "        return 'Older Adult'\n",
    "    else: # age > 60\n",
    "        return 'Senior'\n",
    "\n",
    "# Apply the mapping\n",
    "actual_classes = [map_age_to_bin(age) for age in actual_ages]\n",
    "predicted_classes = [map_age_to_bin(age) for age in predicted_ages]\n",
    "\n",
    "print(f\"Mapped Actual Classes (first 5): {actual_classes[:5]}\")\n",
    "print(f\"Mapped Predicted Classes (first 5): {predicted_classes[:5]}\\n\")\n",
    "\n",
    "# Define all possible class labels explicitly for consistent indexing\n",
    "all_possible_classes = ['Child', 'Teenager', 'Young Adult', 'Adult', 'Middle-aged', 'Older Adult', 'Senior']\n",
    "\n",
    "# 2. Calculate metrics\n",
    "overall_accuracy = accuracy_score(actual_classes, predicted_classes)\n",
    "print(f\"Overall Accuracy: {overall_accuracy:.2f}\\n\")\n",
    "\n",
    "conf_matrix = confusion_matrix(actual_classes, predicted_classes, labels=all_possible_classes)\n",
    "conf_matrix_df = pd.DataFrame(conf_matrix, index=[f'True_{cls}' for cls in all_possible_classes],\n",
    "                               columns=[f'Pred_{cls}' for cls in all_possible_classes])\n",
    "print(\"Confusion Matrix:\")\n",
    "print(conf_matrix_df)\n",
    "print(\"\\n\")\n",
    "\n",
    "precision = precision_score(actual_classes, predicted_classes, average=None, labels=all_possible_classes, zero_division=0)\n",
    "recall = recall_score(actual_classes, predicted_classes, average=None, labels=all_possible_classes, zero_division=0)\n",
    "f1 = f1_score(actual_classes, predicted_classes, average=None, labels=all_possible_classes, zero_division=0)\n",
    "\n",
    "print(\"Per-Class Metrics:\")\n",
    "for i, class_name in enumerate(all_possible_classes):\n",
    "    print(f\"  Class: {class_name}\")\n",
    "    print(f\"    Precision: {precision[i]:.2f}\")\n",
    "    print(f\"    Recall: {recall[i]:.2f}\")\n",
    "    print(f\"    F1-Score: {f1[i]:.2f}\")\n",
    "print(\"\\n\")\n",
    "\n",
    "print(\"Weighted Average Metrics:\")\n",
    "print(f\"  Precision (weighted): {precision_score(actual_classes, predicted_classes, average='weighted', zero_division=0):.2f}\")\n",
    "print(f\"  Recall (weighted): {recall_score(actual_classes, predicted_classes, average='weighted', zero_division=0):.2f}\")\n",
    "print(f\"  F1-Score (weighted): {f1_score(actual_classes, predicted_classes, average='weighted', zero_division=0):.2f}\")"
   ]
  },
  {
   "cell_type": "markdown",
   "id": "b93f9593-4fb4-4c54-985c-dac6462a2a1d",
   "metadata": {},
   "source": [
    "**Improvement of good performance**"
   ]
  },
  {
   "cell_type": "code",
   "execution_count": 28,
   "id": "bb8b89c7-cb85-4ce6-9a03-588533b10deb",
   "metadata": {},
   "outputs": [
    {
     "name": "stdout",
     "output_type": "stream",
     "text": [
      "Mapped Actual Classes (first 5): ['Middle-to-Older Adult', 'Teenager', 'Teenager', 'Adult', 'Adult']\n",
      "Mapped Predicted Classes (first 5): ['Middle-to-Older Adult', 'Adult', 'Adult', 'Middle-to-Older Adult', 'Middle-to-Older Adult']\n",
      "\n",
      "Overall Accuracy (Wider Bins): 0.71\n",
      "\n",
      "Confusion Matrix (Wider Bins):\n",
      "                            Pred_Child  Pred_Teenager  Pred_Adult  \\\n",
      "True_Child                         499             83          62   \n",
      "True_Teenager                       13             45         127   \n",
      "True_Adult                           3             84        1982   \n",
      "True_Middle-to-Older Adult           0              1         260   \n",
      "True_Senior                          0              0          21   \n",
      "\n",
      "                            Pred_Middle-to-Older Adult  Pred_Senior  \n",
      "True_Child                                           4           27  \n",
      "True_Teenager                                        6           20  \n",
      "True_Adult                                         221           82  \n",
      "True_Middle-to-Older Adult                         512          142  \n",
      "True_Senior                                        228          320  \n",
      "\n",
      "\n",
      "Per-Class Metrics (Wider Bins):\n",
      "  Class: Child\n",
      "    Precision: 0.97\n",
      "    Recall: 0.74\n",
      "    F1-Score: 0.84\n",
      "  Class: Teenager\n",
      "    Precision: 0.21\n",
      "    Recall: 0.21\n",
      "    F1-Score: 0.21\n",
      "  Class: Adult\n",
      "    Precision: 0.81\n",
      "    Recall: 0.84\n",
      "    F1-Score: 0.82\n",
      "  Class: Middle-to-Older Adult\n",
      "    Precision: 0.53\n",
      "    Recall: 0.56\n",
      "    F1-Score: 0.54\n",
      "  Class: Senior\n",
      "    Precision: 0.54\n",
      "    Recall: 0.56\n",
      "    F1-Score: 0.55\n",
      "\n",
      "\n",
      "Weighted Average Metrics (Wider Bins):\n",
      "  Precision (weighted): 0.72\n",
      "  Recall (weighted): 0.71\n",
      "  F1-Score (weighted): 0.71\n"
     ]
    }
   ],
   "source": [
    "from sklearn.metrics import accuracy_score, confusion_matrix, precision_score, recall_score, f1_score\n",
    "import pandas as pd\n",
    "import numpy as np \n",
    "\n",
    "actual_ages = y_test\n",
    "predicted_ages = y_pred_continuous\n",
    "\n",
    "# --- NEW map_age_to_bin function with wider bins ---\n",
    "def map_age_to_bin_wider(age):\n",
    "    if 0 <= age <= 12:\n",
    "        return 'Child'\n",
    "    elif 13 <= age <= 19:\n",
    "        return 'Teenager'\n",
    "    elif 20 <= age <= 39: # Combining Young Adult & Adult for wider range\n",
    "        return 'Adult'\n",
    "    elif 40 <= age <= 59: # Combining Middle-aged & Older Adult\n",
    "        return 'Middle-to-Older Adult'\n",
    "    else: # age >= 60\n",
    "        return 'Senior'\n",
    "\n",
    "# Apply the new mapping\n",
    "actual_classes = [map_age_to_bin_wider(age) for age in actual_ages]\n",
    "predicted_classes = [map_age_to_bin_wider(age) for age in predicted_ages]\n",
    "\n",
    "print(f\"Mapped Actual Classes (first 5): {actual_classes[:5]}\")\n",
    "print(f\"Mapped Predicted Classes (first 5): {predicted_classes[:5]}\\n\")\n",
    "\n",
    "# Define all possible class labels explicitly for consistency\n",
    "\n",
    "all_possible_classes = ['Child', 'Teenager', 'Adult', 'Middle-to-Older Adult', 'Senior']\n",
    "\n",
    "# --- Calculate and print metrics ---\n",
    "overall_accuracy = accuracy_score(actual_classes, predicted_classes)\n",
    "print(f\"Overall Accuracy (Wider Bins): {overall_accuracy:.2f}\\n\")\n",
    "\n",
    "conf_matrix = confusion_matrix(actual_classes, predicted_classes, labels=all_possible_classes)\n",
    "conf_matrix_df = pd.DataFrame(conf_matrix, index=[f'True_{cls}' for cls in all_possible_classes],\n",
    "                               columns=[f'Pred_{cls}' for cls in all_possible_classes])\n",
    "print(\"Confusion Matrix (Wider Bins):\")\n",
    "print(conf_matrix_df)\n",
    "print(\"\\n\")\n",
    "\n",
    "precision = precision_score(actual_classes, predicted_classes, average=None, labels=all_possible_classes, zero_division=0)\n",
    "recall = recall_score(actual_classes, predicted_classes, average=None, labels=all_possible_classes, zero_division=0)\n",
    "f1 = f1_score(actual_classes, predicted_classes, average=None, labels=all_possible_classes, zero_division=0)\n",
    "\n",
    "print(\"Per-Class Metrics (Wider Bins):\")\n",
    "for i, class_name in enumerate(all_possible_classes):\n",
    "    print(f\"  Class: {class_name}\")\n",
    "    print(f\"    Precision: {precision[i]:.2f}\")\n",
    "    print(f\"    Recall: {recall[i]:.2f}\")\n",
    "    print(f\"    F1-Score: {f1[i]:.2f}\")\n",
    "print(\"\\n\")\n",
    "\n",
    "print(\"Weighted Average Metrics (Wider Bins):\")\n",
    "print(f\"  Precision (weighted): {precision_score(actual_classes, predicted_classes, average='weighted', zero_division=0):.2f}\")\n",
    "print(f\"  Recall (weighted): {recall_score(actual_classes, predicted_classes, average='weighted', zero_division=0):.2f}\")\n",
    "print(f\"  F1-Score (weighted): {f1_score(actual_classes, predicted_classes, average='weighted', zero_division=0):.2f}\")"
   ]
  },
  {
   "cell_type": "markdown",
   "id": "899d3455-da6f-48cd-87f8-6702c696e538",
   "metadata": {},
   "source": [
    "**Save the model**"
   ]
  },
  {
   "cell_type": "code",
   "execution_count": 32,
   "id": "9ec402d0-4531-4048-ba5a-b9fe1a16f515",
   "metadata": {},
   "outputs": [
    {
     "name": "stdout",
     "output_type": "stream",
     "text": [
      "Model successfully saved to: C:\\Users\\Lutifah\\Desktop\\INTERSHIP\\Fine-Tune  Model\\models\\best_age_model.keras\n"
     ]
    }
   ],
   "source": [
    "model_save_path = r\"C:\\Users\\Lutifah\\Desktop\\INTERSHIP\\Fine-Tune  Model\\models\\best_age_model.keras\"\n",
    "\n",
    "# Create the directory if it doesn't exist\n",
    "import os\n",
    "os.makedirs(os.path.dirname(model_save_path), exist_ok=True)\n",
    "\n",
    "# Save the model\n",
    "try:\n",
    "    model.save(model_save_path) # Replace 'model' with your actual model variable name\n",
    "    print(f\"Model successfully saved to: {model_save_path}\")\n",
    "except Exception as e:\n",
    "    print(f\"Error saving model: {e}\")"
   ]
  },
  {
   "cell_type": "code",
   "execution_count": null,
   "id": "c48dbec1-2262-4fe3-9ddd-9b95c5ea766f",
   "metadata": {},
   "outputs": [],
   "source": []
  }
 ],
 "metadata": {
  "kernelspec": {
   "display_name": "Python 3 (ipykernel)",
   "language": "python",
   "name": "python3"
  },
  "language_info": {
   "codemirror_mode": {
    "name": "ipython",
    "version": 3
   },
   "file_extension": ".py",
   "mimetype": "text/x-python",
   "name": "python",
   "nbconvert_exporter": "python",
   "pygments_lexer": "ipython3",
   "version": "3.9.21"
  }
 },
 "nbformat": 4,
 "nbformat_minor": 5
}
